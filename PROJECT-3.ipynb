{
 "cells": [
  {
   "attachments": {},
   "cell_type": "markdown",
   "metadata": {},
   "source": [
    "ЦЕЛЬ\n",
    "Исследовать поведение пользователей в обновлённом приложении.\n",
    "\n",
    "ЗАДАЧИ\n",
    "В рамках проверки гипотез нам необходимо решить три задачи:\n",
    "\n",
    "1. Определить, насколько обучение сокращает время прохождения этапов игры.\n",
    "2. Доказать, что успешное обучение само по себе влияет на оплату и не имеет значения то, каким этапом оно шло.\n",
    "3. Определить, насколько прозрачен процесс взаимодействия с игрой.\n",
    "\n",
    "КОНКРЕТНЫЕ ШАГИ (ФОРМАЛИЗОВАННЫЕ ЗАДАЧИ)\n",
    "1. Сравнить время прохождения различных этапов для пользователей, которые завершили обучение, и пользователей, не начинавших обучение. Если показатель отличается, выяснить, насколько.\n",
    "2. Проверить, существует ли зависимость между вероятностью оплаты вопросов и количеством обучений, которые начинал или завершал пользователь. \n",
    "3. Выяснить, как часто пользователи начинают обучение после выбора уровня сложности. (Это позволит оценить прозрачность процесса взаимодействия с игрой: если пользователи после выбора уровня сложности обращаются к обучению, значит, работа с приложением непонятна.)"
   ]
  },
  {
   "cell_type": "code",
   "execution_count": 170,
   "metadata": {},
   "outputs": [],
   "source": [
    "import pandas as pd\n",
    "import warnings\n",
    "warnings.filterwarnings('ignore')\n",
    "\n",
    "import seaborn as sb\n",
    "import matplotlib.pyplot as plt\n",
    "%matplotlib inline\n",
    "\n",
    "import plotly\n",
    "import plotly.express as px"
   ]
  },
  {
   "attachments": {},
   "cell_type": "markdown",
   "metadata": {},
   "source": [
    "Открываем наши данные и приводим их к нужному виду: \n",
    "1. приводим слоблец с датой и временем к нужному формату\n",
    "2. создаем фильтр позволяющий сделать выборку пользователей, которые зарегестрировались в 2018 году. \n",
    "3. преименовываем столбцы в датафреймах, а далее соединяем в единую таблицу "
   ]
  },
  {
   "cell_type": "code",
   "execution_count": 171,
   "metadata": {},
   "outputs": [
    {
     "data": {
      "text/html": [
       "<div>\n",
       "<style scoped>\n",
       "    .dataframe tbody tr th:only-of-type {\n",
       "        vertical-align: middle;\n",
       "    }\n",
       "\n",
       "    .dataframe tbody tr th {\n",
       "        vertical-align: top;\n",
       "    }\n",
       "\n",
       "    .dataframe thead th {\n",
       "        text-align: right;\n",
       "    }\n",
       "</style>\n",
       "<table border=\"1\" class=\"dataframe\">\n",
       "  <thead>\n",
       "    <tr style=\"text-align: right;\">\n",
       "      <th></th>\n",
       "      <th>event_id</th>\n",
       "      <th>event_type</th>\n",
       "      <th>selected_level</th>\n",
       "      <th>start_time</th>\n",
       "      <th>tutorial_id</th>\n",
       "      <th>user_id</th>\n",
       "      <th>purchase_id</th>\n",
       "      <th>amount</th>\n",
       "    </tr>\n",
       "  </thead>\n",
       "  <tbody>\n",
       "    <tr>\n",
       "      <th>0</th>\n",
       "      <td>80308.0</td>\n",
       "      <td>registration</td>\n",
       "      <td>NaN</td>\n",
       "      <td>2018-01-01 03:48:40</td>\n",
       "      <td>NaN</td>\n",
       "      <td>27832</td>\n",
       "      <td>NaN</td>\n",
       "      <td>NaN</td>\n",
       "    </tr>\n",
       "    <tr>\n",
       "      <th>1</th>\n",
       "      <td>80309.0</td>\n",
       "      <td>registration</td>\n",
       "      <td>NaN</td>\n",
       "      <td>2018-01-01 04:07:25</td>\n",
       "      <td>NaN</td>\n",
       "      <td>27833</td>\n",
       "      <td>NaN</td>\n",
       "      <td>NaN</td>\n",
       "    </tr>\n",
       "    <tr>\n",
       "      <th>2</th>\n",
       "      <td>80310.0</td>\n",
       "      <td>registration</td>\n",
       "      <td>NaN</td>\n",
       "      <td>2018-01-01 08:35:10</td>\n",
       "      <td>NaN</td>\n",
       "      <td>27834</td>\n",
       "      <td>NaN</td>\n",
       "      <td>NaN</td>\n",
       "    </tr>\n",
       "    <tr>\n",
       "      <th>3</th>\n",
       "      <td>80311.0</td>\n",
       "      <td>registration</td>\n",
       "      <td>NaN</td>\n",
       "      <td>2018-01-01 11:54:47</td>\n",
       "      <td>NaN</td>\n",
       "      <td>27835</td>\n",
       "      <td>NaN</td>\n",
       "      <td>NaN</td>\n",
       "    </tr>\n",
       "    <tr>\n",
       "      <th>4</th>\n",
       "      <td>80312.0</td>\n",
       "      <td>registration</td>\n",
       "      <td>NaN</td>\n",
       "      <td>2018-01-01 13:28:07</td>\n",
       "      <td>NaN</td>\n",
       "      <td>27836</td>\n",
       "      <td>NaN</td>\n",
       "      <td>NaN</td>\n",
       "    </tr>\n",
       "    <tr>\n",
       "      <th>5</th>\n",
       "      <td>80313.0</td>\n",
       "      <td>registration</td>\n",
       "      <td>NaN</td>\n",
       "      <td>2018-01-01 14:08:40</td>\n",
       "      <td>NaN</td>\n",
       "      <td>27837</td>\n",
       "      <td>NaN</td>\n",
       "      <td>NaN</td>\n",
       "    </tr>\n",
       "    <tr>\n",
       "      <th>6</th>\n",
       "      <td>80314.0</td>\n",
       "      <td>registration</td>\n",
       "      <td>NaN</td>\n",
       "      <td>2018-01-01 14:42:58</td>\n",
       "      <td>NaN</td>\n",
       "      <td>27838</td>\n",
       "      <td>NaN</td>\n",
       "      <td>NaN</td>\n",
       "    </tr>\n",
       "    <tr>\n",
       "      <th>7</th>\n",
       "      <td>80315.0</td>\n",
       "      <td>tutorial_start</td>\n",
       "      <td>NaN</td>\n",
       "      <td>2018-01-01 14:54:40</td>\n",
       "      <td>31505.0</td>\n",
       "      <td>27836</td>\n",
       "      <td>NaN</td>\n",
       "      <td>NaN</td>\n",
       "    </tr>\n",
       "    <tr>\n",
       "      <th>8</th>\n",
       "      <td>80316.0</td>\n",
       "      <td>tutorial_start</td>\n",
       "      <td>NaN</td>\n",
       "      <td>2018-01-01 15:00:51</td>\n",
       "      <td>31506.0</td>\n",
       "      <td>27835</td>\n",
       "      <td>NaN</td>\n",
       "      <td>NaN</td>\n",
       "    </tr>\n",
       "    <tr>\n",
       "      <th>9</th>\n",
       "      <td>80317.0</td>\n",
       "      <td>tutorial_finish</td>\n",
       "      <td>NaN</td>\n",
       "      <td>2018-01-01 15:06:15</td>\n",
       "      <td>31506.0</td>\n",
       "      <td>27835</td>\n",
       "      <td>NaN</td>\n",
       "      <td>NaN</td>\n",
       "    </tr>\n",
       "  </tbody>\n",
       "</table>\n",
       "</div>"
      ],
      "text/plain": [
       "   event_id       event_type selected_level          start_time  tutorial_id  \\\n",
       "0   80308.0     registration            NaN 2018-01-01 03:48:40          NaN   \n",
       "1   80309.0     registration            NaN 2018-01-01 04:07:25          NaN   \n",
       "2   80310.0     registration            NaN 2018-01-01 08:35:10          NaN   \n",
       "3   80311.0     registration            NaN 2018-01-01 11:54:47          NaN   \n",
       "4   80312.0     registration            NaN 2018-01-01 13:28:07          NaN   \n",
       "5   80313.0     registration            NaN 2018-01-01 14:08:40          NaN   \n",
       "6   80314.0     registration            NaN 2018-01-01 14:42:58          NaN   \n",
       "7   80315.0   tutorial_start            NaN 2018-01-01 14:54:40      31505.0   \n",
       "8   80316.0   tutorial_start            NaN 2018-01-01 15:00:51      31506.0   \n",
       "9   80317.0  tutorial_finish            NaN 2018-01-01 15:06:15      31506.0   \n",
       "\n",
       "   user_id  purchase_id  amount  \n",
       "0    27832          NaN     NaN  \n",
       "1    27833          NaN     NaN  \n",
       "2    27834          NaN     NaN  \n",
       "3    27835          NaN     NaN  \n",
       "4    27836          NaN     NaN  \n",
       "5    27837          NaN     NaN  \n",
       "6    27838          NaN     NaN  \n",
       "7    27836          NaN     NaN  \n",
       "8    27835          NaN     NaN  \n",
       "9    27835          NaN     NaN  "
      ]
     },
     "execution_count": 171,
     "metadata": {},
     "output_type": "execute_result"
    }
   ],
   "source": [
    "event = pd.read_csv('/Users/yanaprynik/Work_doc/gd3/Events.csv', sep=',') # импортируем файлы\n",
    "purchase = pd.read_csv('/Users/yanaprynik/Work_doc/gd3/purchase.csv', sep=',')\n",
    "\n",
    "event['start_time'] = pd.to_datetime(event['start_time'], errors='coerce') # приводим даты в нужный нам формат\n",
    "purchase['event_datetime'] = pd.to_datetime(purchase['event_datetime'])\n",
    "\n",
    "date_mask_events = (event['start_time'] >= '2018-01-01') & (event['start_time'] < '2019-01-01') # создаем маску для фильтра пользователей\n",
    "reg_events = (event['event_type'] == 'registration')\n",
    "user_2018 = event[date_mask_events][reg_events]['user_id'].to_list()\n",
    "event = event[event['user_id'].isin(user_2018)] # фильтруем нашу таблицу и выбираем только пользователей зарегестрировавшихся в 2018 году\n",
    "\n",
    "purchase = purchase[purchase['user_id'].isin(user_2018)] # делаем тоже самое и со второй таблицей\n",
    "purchase['event_type'] = 'purchase' # добавляем новый тип ивента\n",
    "\n",
    "event = event.rename(columns={\"id\": \"event_id\"}) # переименовываем колонки\n",
    "purchase = purchase.rename(columns={\"id\": \"purchase_id\", \"event_datetime\": \"start_time\"})\n",
    "\n",
    "total_events_df = pd.concat([event,purchase],sort=False) # соединяем наши таблицы\n",
    "total_events_df = total_events_df.reset_index(drop=True).sort_values('start_time') # удаляем индексы и сортируем по времени\n",
    "total_events_df.head(10)\n"
   ]
  },
  {
   "attachments": {},
   "cell_type": "markdown",
   "metadata": {},
   "source": [
    "1. создадим вспомогательные датафреймы со временем начала того или иного этапа игры "
   ]
  },
  {
   "cell_type": "code",
   "execution_count": 172,
   "metadata": {},
   "outputs": [
    {
     "data": {
      "text/html": [
       "<div>\n",
       "<style scoped>\n",
       "    .dataframe tbody tr th:only-of-type {\n",
       "        vertical-align: middle;\n",
       "    }\n",
       "\n",
       "    .dataframe tbody tr th {\n",
       "        vertical-align: top;\n",
       "    }\n",
       "\n",
       "    .dataframe thead th {\n",
       "        text-align: right;\n",
       "    }\n",
       "</style>\n",
       "<table border=\"1\" class=\"dataframe\">\n",
       "  <thead>\n",
       "    <tr style=\"text-align: right;\">\n",
       "      <th></th>\n",
       "      <th>event_id</th>\n",
       "      <th>event_type</th>\n",
       "      <th>selected_level</th>\n",
       "      <th>start_time</th>\n",
       "      <th>tutorial_id</th>\n",
       "      <th>user_id</th>\n",
       "      <th>purchase_id</th>\n",
       "      <th>amount</th>\n",
       "    </tr>\n",
       "  </thead>\n",
       "  <tbody>\n",
       "    <tr>\n",
       "      <th>0</th>\n",
       "      <td>80308.0</td>\n",
       "      <td>registration</td>\n",
       "      <td>NaN</td>\n",
       "      <td>2018-01-01 03:48:40</td>\n",
       "      <td>NaN</td>\n",
       "      <td>27832</td>\n",
       "      <td>NaN</td>\n",
       "      <td>NaN</td>\n",
       "    </tr>\n",
       "    <tr>\n",
       "      <th>5</th>\n",
       "      <td>80313.0</td>\n",
       "      <td>registration</td>\n",
       "      <td>NaN</td>\n",
       "      <td>2018-01-01 14:08:40</td>\n",
       "      <td>NaN</td>\n",
       "      <td>27837</td>\n",
       "      <td>NaN</td>\n",
       "      <td>NaN</td>\n",
       "    </tr>\n",
       "    <tr>\n",
       "      <th>6</th>\n",
       "      <td>80314.0</td>\n",
       "      <td>registration</td>\n",
       "      <td>NaN</td>\n",
       "      <td>2018-01-01 14:42:58</td>\n",
       "      <td>NaN</td>\n",
       "      <td>27838</td>\n",
       "      <td>NaN</td>\n",
       "      <td>NaN</td>\n",
       "    </tr>\n",
       "    <tr>\n",
       "      <th>27</th>\n",
       "      <td>80335.0</td>\n",
       "      <td>registration</td>\n",
       "      <td>NaN</td>\n",
       "      <td>2018-01-02 00:13:22</td>\n",
       "      <td>NaN</td>\n",
       "      <td>27844</td>\n",
       "      <td>NaN</td>\n",
       "      <td>NaN</td>\n",
       "    </tr>\n",
       "    <tr>\n",
       "      <th>37</th>\n",
       "      <td>80345.0</td>\n",
       "      <td>registration</td>\n",
       "      <td>NaN</td>\n",
       "      <td>2018-01-02 06:05:02</td>\n",
       "      <td>NaN</td>\n",
       "      <td>27848</td>\n",
       "      <td>NaN</td>\n",
       "      <td>NaN</td>\n",
       "    </tr>\n",
       "    <tr>\n",
       "      <th>...</th>\n",
       "      <td>...</td>\n",
       "      <td>...</td>\n",
       "      <td>...</td>\n",
       "      <td>...</td>\n",
       "      <td>...</td>\n",
       "      <td>...</td>\n",
       "      <td>...</td>\n",
       "      <td>...</td>\n",
       "    </tr>\n",
       "    <tr>\n",
       "      <th>66936</th>\n",
       "      <td>147244.0</td>\n",
       "      <td>registration</td>\n",
       "      <td>NaN</td>\n",
       "      <td>2018-12-31 12:03:59</td>\n",
       "      <td>NaN</td>\n",
       "      <td>47749</td>\n",
       "      <td>NaN</td>\n",
       "      <td>NaN</td>\n",
       "    </tr>\n",
       "    <tr>\n",
       "      <th>66938</th>\n",
       "      <td>147246.0</td>\n",
       "      <td>registration</td>\n",
       "      <td>NaN</td>\n",
       "      <td>2018-12-31 13:42:40</td>\n",
       "      <td>NaN</td>\n",
       "      <td>47750</td>\n",
       "      <td>NaN</td>\n",
       "      <td>NaN</td>\n",
       "    </tr>\n",
       "    <tr>\n",
       "      <th>66940</th>\n",
       "      <td>147248.0</td>\n",
       "      <td>registration</td>\n",
       "      <td>NaN</td>\n",
       "      <td>2018-12-31 18:49:30</td>\n",
       "      <td>NaN</td>\n",
       "      <td>47752</td>\n",
       "      <td>NaN</td>\n",
       "      <td>NaN</td>\n",
       "    </tr>\n",
       "    <tr>\n",
       "      <th>66942</th>\n",
       "      <td>147250.0</td>\n",
       "      <td>registration</td>\n",
       "      <td>NaN</td>\n",
       "      <td>2018-12-31 19:14:08</td>\n",
       "      <td>NaN</td>\n",
       "      <td>47754</td>\n",
       "      <td>NaN</td>\n",
       "      <td>NaN</td>\n",
       "    </tr>\n",
       "    <tr>\n",
       "      <th>66951</th>\n",
       "      <td>147259.0</td>\n",
       "      <td>registration</td>\n",
       "      <td>NaN</td>\n",
       "      <td>2018-12-31 23:18:06</td>\n",
       "      <td>NaN</td>\n",
       "      <td>47757</td>\n",
       "      <td>NaN</td>\n",
       "      <td>NaN</td>\n",
       "    </tr>\n",
       "  </tbody>\n",
       "</table>\n",
       "<p>8068 rows × 8 columns</p>\n",
       "</div>"
      ],
      "text/plain": [
       "       event_id    event_type selected_level          start_time  tutorial_id  \\\n",
       "0       80308.0  registration            NaN 2018-01-01 03:48:40          NaN   \n",
       "5       80313.0  registration            NaN 2018-01-01 14:08:40          NaN   \n",
       "6       80314.0  registration            NaN 2018-01-01 14:42:58          NaN   \n",
       "27      80335.0  registration            NaN 2018-01-02 00:13:22          NaN   \n",
       "37      80345.0  registration            NaN 2018-01-02 06:05:02          NaN   \n",
       "...         ...           ...            ...                 ...          ...   \n",
       "66936  147244.0  registration            NaN 2018-12-31 12:03:59          NaN   \n",
       "66938  147246.0  registration            NaN 2018-12-31 13:42:40          NaN   \n",
       "66940  147248.0  registration            NaN 2018-12-31 18:49:30          NaN   \n",
       "66942  147250.0  registration            NaN 2018-12-31 19:14:08          NaN   \n",
       "66951  147259.0  registration            NaN 2018-12-31 23:18:06          NaN   \n",
       "\n",
       "       user_id  purchase_id  amount  \n",
       "0        27832          NaN     NaN  \n",
       "5        27837          NaN     NaN  \n",
       "6        27838          NaN     NaN  \n",
       "27       27844          NaN     NaN  \n",
       "37       27848          NaN     NaN  \n",
       "...        ...          ...     ...  \n",
       "66936    47749          NaN     NaN  \n",
       "66938    47750          NaN     NaN  \n",
       "66940    47752          NaN     NaN  \n",
       "66942    47754          NaN     NaN  \n",
       "66951    47757          NaN     NaN  \n",
       "\n",
       "[8068 rows x 8 columns]"
      ]
     },
     "metadata": {},
     "output_type": "display_data"
    }
   ],
   "source": [
    "registration_df = total_events_df[total_events_df['event_type'] == 'registration'] # Пользователи которые прошли регистрацию\n",
    "\n",
    "\n",
    "tutorial_start_df = total_events_df[total_events_df['event_type'] == 'tutorial_start']\n",
    "tutorial_start_df_wo_duplicates = tutorial_start_df.sort_values(\"start_time\").drop_duplicates(\"user_id\")\n",
    "tutorial_finish = total_events_df[total_events_df[\"event_type\"] == \"tutorial_finish\"]\n",
    "first_tutorial_ids = tutorial_start_df_wo_duplicates[\"tutorial_id\"].unique()\n",
    "tutorial_finish_df = tutorial_finish[tutorial_finish[\"tutorial_id\"].isin(first_tutorial_ids)] # Пользователи которые прошли обучение\n",
    "\n",
    "\n",
    "users_with_started_tutorial = tutorial_start_df['user_id'].unique()\n",
    "set_users_with_started_tutorial = set(users_with_started_tutorial)\n",
    "all_users = total_events_df[\"user_id\"].unique()\n",
    "set_all_users = set(all_users)\n",
    "set_users_not_started_tutorial = set_all_users.difference(\n",
    "    set_users_with_started_tutorial)\n",
    "not_tutorial_user_df = registration_df[registration_df['user_id'].isin(set_users_not_started_tutorial)] # Пользователи которые не прошли обучение\n",
    "\n",
    "display(not_tutorial_user_df)\n",
    "level_choice_df = total_events_df[total_events_df['event_type'] == 'level_choice'] # Пользователи которые выбрали уровень сложности\n",
    "\n",
    "pack_choice_df = total_events_df[total_events_df['event_type'] == 'pack_choice'] # Пользователи которые выбрали бесплатный пак вопросов \n",
    "\n",
    "purchase_df = total_events_df[total_events_df['event_type'] == 'purchase'] # Пользователи которые купили платный пак вопросов \n"
   ]
  },
  {
   "cell_type": "code",
   "execution_count": 173,
   "metadata": {},
   "outputs": [],
   "source": [
    "registration_df = registration_df[[\"user_id\", \"start_time\"]].rename(columns={\"start_time\": \"registration_time\"}) # переименуем столбец со временем\n",
    "\n",
    "tutorial_finish_df = tutorial_finish_df[[\"user_id\", \"start_time\"]].rename(columns={\"start_time\": \"tutorial_finish_time\"})\n",
    "\n",
    "not_tutorial_user_df = not_tutorial_user_df[[\"user_id\", \"start_time\"]].rename(columns={\"start_time\": \"registration_finish_time\"})\n",
    "\n",
    "level_choice_df = level_choice_df[[\"user_id\", \"start_time\"]].rename(columns={\"start_time\": \"level_choice_time\"})\n",
    "\n",
    "pack_choice_df = pack_choice_df[[\"user_id\", \"start_time\"]].rename(columns={\"start_time\": \"pack_choice_time\"})\n",
    "\n",
    "purchase_df = purchase_df[[\"user_id\", \"start_time\"]].rename(columns={\"start_time\": \"purchase_time\"})"
   ]
  },
  {
   "attachments": {},
   "cell_type": "markdown",
   "metadata": {},
   "source": [
    "проверим количество прользователей, построив воронку приложения. "
   ]
  },
  {
   "cell_type": "code",
   "execution_count": 174,
   "metadata": {},
   "outputs": [
    {
     "data": {
      "text/plain": [
       "19926"
      ]
     },
     "metadata": {},
     "output_type": "display_data"
    },
    {
     "data": {
      "text/plain": [
       "9830"
      ]
     },
     "metadata": {},
     "output_type": "display_data"
    },
    {
     "data": {
      "text/plain": [
       "8068"
      ]
     },
     "metadata": {},
     "output_type": "display_data"
    },
    {
     "data": {
      "text/plain": [
       "8342"
      ]
     },
     "metadata": {},
     "output_type": "display_data"
    },
    {
     "data": {
      "text/plain": [
       "5737"
      ]
     },
     "metadata": {},
     "output_type": "display_data"
    },
    {
     "data": {
      "text/plain": [
       "1600"
      ]
     },
     "metadata": {},
     "output_type": "display_data"
    }
   ],
   "source": [
    "display(registration_df['user_id'].value_counts().sum())\n",
    "display(tutorial_finish_df['user_id'].value_counts().sum())\n",
    "display(not_tutorial_user_df['user_id'].value_counts().sum())\n",
    "display(level_choice_df['user_id'].value_counts().sum())\n",
    "display(pack_choice_df['user_id'].value_counts().sum())\n",
    "display(purchase_df['user_id'].value_counts().sum())"
   ]
  },
  {
   "attachments": {},
   "cell_type": "markdown",
   "metadata": {},
   "source": [
    "у нас есть данные о пользователях: \n",
    "1. Закончили обучение\n",
    "2. Не начинали обучение\n",
    "3. Выбрали уровень сложность\n",
    "4. Выбрали бесплатный пакет вопросов\n",
    "5. Купили платный пакет вопросов\n",
    "\n",
    "Сравниваем время прохождения различных этапов для пользователей, которые завершили обучение, и пользователей, не начинавших обучение."
   ]
  },
  {
   "cell_type": "code",
   "execution_count": 175,
   "metadata": {},
   "outputs": [
    {
     "data": {
      "text/html": [
       "<div>\n",
       "<style scoped>\n",
       "    .dataframe tbody tr th:only-of-type {\n",
       "        vertical-align: middle;\n",
       "    }\n",
       "\n",
       "    .dataframe tbody tr th {\n",
       "        vertical-align: top;\n",
       "    }\n",
       "\n",
       "    .dataframe thead th {\n",
       "        text-align: right;\n",
       "    }\n",
       "</style>\n",
       "<table border=\"1\" class=\"dataframe\">\n",
       "  <thead>\n",
       "    <tr style=\"text-align: right;\">\n",
       "      <th></th>\n",
       "      <th>user_id</th>\n",
       "      <th>tutorial_finish_time</th>\n",
       "      <th>level_choice_time</th>\n",
       "    </tr>\n",
       "  </thead>\n",
       "  <tbody>\n",
       "    <tr>\n",
       "      <th>0</th>\n",
       "      <td>27835</td>\n",
       "      <td>2018-01-01 15:06:15</td>\n",
       "      <td>2018-01-01 20:37:22</td>\n",
       "    </tr>\n",
       "    <tr>\n",
       "      <th>1</th>\n",
       "      <td>27839</td>\n",
       "      <td>2018-01-01 19:16:32</td>\n",
       "      <td>2018-01-01 22:37:50</td>\n",
       "    </tr>\n",
       "    <tr>\n",
       "      <th>2</th>\n",
       "      <td>27845</td>\n",
       "      <td>2018-01-02 03:06:48</td>\n",
       "      <td>2018-01-02 06:19:18</td>\n",
       "    </tr>\n",
       "    <tr>\n",
       "      <th>3</th>\n",
       "      <td>27842</td>\n",
       "      <td>2018-01-02 04:57:01</td>\n",
       "      <td>2018-01-02 08:46:03</td>\n",
       "    </tr>\n",
       "    <tr>\n",
       "      <th>4</th>\n",
       "      <td>27849</td>\n",
       "      <td>2018-01-02 09:11:45</td>\n",
       "      <td>2018-01-02 11:53:11</td>\n",
       "    </tr>\n",
       "    <tr>\n",
       "      <th>...</th>\n",
       "      <td>...</td>\n",
       "      <td>...</td>\n",
       "      <td>...</td>\n",
       "    </tr>\n",
       "    <tr>\n",
       "      <th>7192</th>\n",
       "      <td>47732</td>\n",
       "      <td>2018-12-31 07:21:02</td>\n",
       "      <td>2018-12-31 09:59:00</td>\n",
       "    </tr>\n",
       "    <tr>\n",
       "      <th>7193</th>\n",
       "      <td>47747</td>\n",
       "      <td>2018-12-31 10:22:45</td>\n",
       "      <td>2018-12-31 12:24:40</td>\n",
       "    </tr>\n",
       "    <tr>\n",
       "      <th>7194</th>\n",
       "      <td>47753</td>\n",
       "      <td>2018-12-31 20:57:07</td>\n",
       "      <td>2018-12-31 22:36:19</td>\n",
       "    </tr>\n",
       "    <tr>\n",
       "      <th>7195</th>\n",
       "      <td>47755</td>\n",
       "      <td>2019-01-01 00:09:30</td>\n",
       "      <td>2019-01-01 05:04:52</td>\n",
       "    </tr>\n",
       "    <tr>\n",
       "      <th>7196</th>\n",
       "      <td>47756</td>\n",
       "      <td>2019-01-01 03:29:25</td>\n",
       "      <td>2019-01-01 05:42:11</td>\n",
       "    </tr>\n",
       "  </tbody>\n",
       "</table>\n",
       "<p>7197 rows × 3 columns</p>\n",
       "</div>"
      ],
      "text/plain": [
       "      user_id tutorial_finish_time   level_choice_time\n",
       "0       27835  2018-01-01 15:06:15 2018-01-01 20:37:22\n",
       "1       27839  2018-01-01 19:16:32 2018-01-01 22:37:50\n",
       "2       27845  2018-01-02 03:06:48 2018-01-02 06:19:18\n",
       "3       27842  2018-01-02 04:57:01 2018-01-02 08:46:03\n",
       "4       27849  2018-01-02 09:11:45 2018-01-02 11:53:11\n",
       "...       ...                  ...                 ...\n",
       "7192    47732  2018-12-31 07:21:02 2018-12-31 09:59:00\n",
       "7193    47747  2018-12-31 10:22:45 2018-12-31 12:24:40\n",
       "7194    47753  2018-12-31 20:57:07 2018-12-31 22:36:19\n",
       "7195    47755  2019-01-01 00:09:30 2019-01-01 05:04:52\n",
       "7196    47756  2019-01-01 03:29:25 2019-01-01 05:42:11\n",
       "\n",
       "[7197 rows x 3 columns]"
      ]
     },
     "metadata": {},
     "output_type": "display_data"
    },
    {
     "data": {
      "text/plain": [
       "98"
      ]
     },
     "metadata": {},
     "output_type": "display_data"
    },
    {
     "data": {
      "text/plain": [
       "tutorial\n",
       "finish tutorial        2.335005\n",
       "not finish tutorial    5.259201\n",
       "Name: timedelta, dtype: float64"
      ]
     },
     "metadata": {},
     "output_type": "display_data"
    },
    {
     "data": {
      "text/plain": [
       "Text(0.5, 1.0, 'Время до выбора уровня сложности')"
      ]
     },
     "execution_count": 175,
     "metadata": {},
     "output_type": "execute_result"
    },
    {
     "data": {
      "image/png": "[encoded data removed]",
      "text/plain": [
       "<Figure size 400x400 with 1 Axes>"
      ]
     },
     "metadata": {},
     "output_type": "display_data"
    }
   ],
   "source": [
    "df_level_choise_finish_tutorial = tutorial_finish_df.merge(\n",
    "    level_choice_df, \n",
    "    on='user_id', \n",
    "    how='inner'\n",
    "    ) # объединяем датафреймы, тех кто завершил обучение и выбора уровня сложности.\n",
    "display(df_level_choise_finish_tutorial)\n",
    "cnt_user_level_choise_finish_tutorial = df_level_choise_finish_tutorial.value_counts().sum() # проверяем сколько пользоватетелй перешли на след. этап\n",
    "df_level_choise_finish_tutorial['timedelta'] = df_level_choise_finish_tutorial['level_choice_time']- df_level_choise_finish_tutorial['tutorial_finish_time']\n",
    "df_level_choise_finish_tutorial['tutorial'] = 'finish tutorial'\n",
    "\n",
    "\n",
    "df_level_choise_not_finish_tutorial = not_tutorial_user_df.merge(\n",
    "    level_choice_df, \n",
    "    on='user_id', \n",
    "    how='inner'\n",
    "    ) # объединяем датафреймы, тех кто не начинал обучение и выбора уровня сложности.\n",
    "\n",
    "cnt_user_level_choise_no_finish_tutorial = df_level_choise_not_finish_tutorial.value_counts().sum() # проверяем сколько пользоватетелй перешли на след. этап\n",
    "df_level_choise_not_finish_tutorial['timedelta'] = df_level_choise_not_finish_tutorial['level_choice_time'] - df_level_choise_not_finish_tutorial['registration_finish_time']\n",
    "df_level_choise_not_finish_tutorial['tutorial'] = 'not finish tutorial'\n",
    "display(cnt_user_level_choise_no_finish_tutorial)\n",
    "\n",
    "\n",
    "time_level_choise = df_level_choise_finish_tutorial.merge(\n",
    "    df_level_choise_not_finish_tutorial, \n",
    "    on=['timedelta', 'tutorial'],\n",
    "    how='outer'\n",
    ")   # объединяем датафреймы\n",
    "time_level_choise['timedelta'] = time_level_choise['timedelta'] / pd.to_timedelta('1 hour') \n",
    "time_level_choise = time_level_choise.groupby('tutorial')['timedelta'].mean() # группируем нашу таблицу\n",
    "display(time_level_choise)\n",
    "\n",
    "fig = plt.figure(figsize=(4, 4)) #  строим график, где показано какое количество часов необходимо было для выбора уровня сложности\n",
    "main_axes = fig.add_axes([0, 0, 1, 1])\n",
    "main_axes.bar(\n",
    "    x = time_level_choise.index,\n",
    "    height = time_level_choise,\n",
    "    \n",
    "    )\n",
    "main_axes.set_ylabel('Количество часов')\n",
    "main_axes.set_xlabel('Группы пользователей')\n",
    "main_axes.set_title('Время до выбора уровня сложности')"
   ]
  },
  {
   "attachments": {},
   "cell_type": "markdown",
   "metadata": {},
   "source": [
    "как мы можем видеть, пользователи перешедшие на следуйщий этап выбора уровня сложности, очень сильно отличаеются в наших группах. Тех кто прошел обучение в разы больше, к тому же они быстрее приступают к выбору сложности. Те кто не прошел обучение счилались от момента регистрации."
   ]
  },
  {
   "attachments": {},
   "cell_type": "markdown",
   "metadata": {},
   "source": [
    "Далее производим аналогичную сортировку данных и уже строим графики по другим этапам игры. \n",
    "\n",
    "Решил сделать таким образом, что бы в дальнейшем, можно было взять любой датафрейм пользователей и уже работать в разрезе по этапам игры. \n",
    "Для любых метрик необходимо будет добавить только столбцы в начальные отсортированные таблицы (момент переименовывания start_time)."
   ]
  },
  {
   "cell_type": "code",
   "execution_count": 176,
   "metadata": {},
   "outputs": [
    {
     "data": {
      "text/plain": [
       "4976"
      ]
     },
     "metadata": {},
     "output_type": "display_data"
    },
    {
     "data": {
      "text/plain": [
       "74"
      ]
     },
     "metadata": {},
     "output_type": "display_data"
    },
    {
     "data": {
      "text/plain": [
       "tutorial\n",
       "finish tutorial        5.307737\n",
       "not finish tutorial    5.397072\n",
       "Name: timedelta, dtype: float64"
      ]
     },
     "metadata": {},
     "output_type": "display_data"
    },
    {
     "data": {
      "text/plain": [
       "Text(0.5, 1.0, 'Время до выбора пакета вопросов')"
      ]
     },
     "execution_count": 176,
     "metadata": {},
     "output_type": "execute_result"
    },
    {
     "data": {
      "image/png": "[encoded data removed]",
      "text/plain": [
       "<Figure size 400x400 with 1 Axes>"
      ]
     },
     "metadata": {},
     "output_type": "display_data"
    }
   ],
   "source": [
    "df_pack_choise_finish_tutorial = df_level_choise_finish_tutorial.merge(\n",
    "    pack_choice_df,\n",
    "    on='user_id',\n",
    "    how='inner'\n",
    ")\n",
    "df_pack_choise_finish_tutorial['timedelta'] = df_pack_choise_finish_tutorial['pack_choice_time'] - df_pack_choise_finish_tutorial['level_choice_time']\n",
    "cnt_pack_finish_tutorial = df_pack_choise_finish_tutorial.value_counts().count()\n",
    "df_pack_choise_finish_tutorial['tutorial'] = 'finish tutorial'\n",
    "\n",
    "display(cnt_pack_finish_tutorial)\n",
    "\n",
    "\n",
    "\n",
    "df_pack_choise_not_finish_tutorial = df_level_choise_not_finish_tutorial.merge(\n",
    "    pack_choice_df,\n",
    "    on='user_id',\n",
    "    how='inner'\n",
    ")\n",
    "df_pack_choise_not_finish_tutorial['timedelta'] = df_pack_choise_not_finish_tutorial['pack_choice_time'] - df_pack_choise_not_finish_tutorial['level_choice_time']\n",
    "cnt_pack_not_finish_tutorial = df_pack_choise_not_finish_tutorial.value_counts().count()\n",
    "df_pack_choise_not_finish_tutorial['tutorial'] = 'not finish tutorial'\n",
    "\n",
    "display(cnt_pack_not_finish_tutorial)\n",
    "\n",
    "time_pack_choise = df_pack_choise_finish_tutorial.merge(\n",
    "    df_pack_choise_not_finish_tutorial, \n",
    "    on=['timedelta', 'tutorial'],\n",
    "    how='outer'\n",
    ")\n",
    "time_pack_choise['timedelta'] = time_pack_choise['timedelta'] / pd.to_timedelta('1 minutes')\n",
    "time_pack_choise = time_pack_choise.groupby('tutorial')['timedelta'].mean()\n",
    "display(time_pack_choise)\n",
    "\n",
    "fig = plt.figure(figsize=(4, 4))\n",
    "main_axes = fig.add_axes([0, 0, 1, 1])\n",
    "main_axes.bar(\n",
    "    x = time_pack_choise.index,\n",
    "    height = time_pack_choise,\n",
    "    \n",
    "    )\n",
    "main_axes.set_ylabel('Количество минут')\n",
    "main_axes.set_xlabel('Группы пользователей')\n",
    "main_axes.set_title('Время до выбора пакета вопросов')"
   ]
  },
  {
   "attachments": {},
   "cell_type": "markdown",
   "metadata": {},
   "source": [
    "Следуйщий этап выбора бесплатного пака вопросов, пользователи показали практически равное время, а отток пользоватей произошол в 31% для прошелших обучение и 25% для тех, кто не проходил, по сравнению с предыдущим этапом игры."
   ]
  },
  {
   "cell_type": "code",
   "execution_count": 177,
   "metadata": {},
   "outputs": [
    {
     "data": {
      "text/plain": [
       "1387"
      ]
     },
     "metadata": {},
     "output_type": "display_data"
    },
    {
     "data": {
      "text/plain": [
       "Timedelta('3 days 17:13:47.798125450')"
      ]
     },
     "metadata": {},
     "output_type": "display_data"
    },
    {
     "data": {
      "text/plain": [
       "22"
      ]
     },
     "metadata": {},
     "output_type": "display_data"
    },
    {
     "data": {
      "text/plain": [
       "Timedelta('4 days 04:49:33.590909090')"
      ]
     },
     "metadata": {},
     "output_type": "display_data"
    },
    {
     "data": {
      "text/plain": [
       "Text(0.5, 1.0, 'Время до покупки пакета вопросов')"
      ]
     },
     "execution_count": 177,
     "metadata": {},
     "output_type": "execute_result"
    },
    {
     "data": {
      "image/png": "[encoded data removed]",
      "text/plain": [
       "<Figure size 400x400 with 1 Axes>"
      ]
     },
     "metadata": {},
     "output_type": "display_data"
    }
   ],
   "source": [
    "df_purchase_finish_tutorial = df_pack_choise_finish_tutorial.merge(\n",
    "    purchase_df,\n",
    "    on='user_id',\n",
    "    how='inner'\n",
    ")\n",
    "df_purchase_finish_tutorial['timedelta'] = df_purchase_finish_tutorial['purchase_time'] - df_purchase_finish_tutorial['pack_choice_time']\n",
    "cnt_purchase_finish_tutorial = df_purchase_finish_tutorial.value_counts().count()\n",
    "df_purchase_finish_tutorial['tutorial'] = 'finish tutorial'\n",
    "display(cnt_purchase_finish_tutorial)\n",
    "display(df_purchase_finish_tutorial.timedelta.mean())\n",
    "\n",
    "\n",
    "\n",
    "df_purchase_not_finish_tutorial = df_pack_choise_not_finish_tutorial.merge(\n",
    "    purchase_df,\n",
    "    on='user_id',\n",
    "    how='inner'\n",
    ")\n",
    "df_purchase_not_finish_tutorial['timedelta'] = df_purchase_not_finish_tutorial['purchase_time'] - df_purchase_not_finish_tutorial['pack_choice_time']\n",
    "cnt_purchase_not_finish_tutorial = df_purchase_not_finish_tutorial.value_counts().count()\n",
    "df_purchase_not_finish_tutorial['tutorial'] = 'not finish tutorial'\n",
    "display(cnt_purchase_not_finish_tutorial)\n",
    "display(df_purchase_not_finish_tutorial.timedelta.mean())\n",
    "\n",
    "time_purchase = df_purchase_finish_tutorial.merge(\n",
    "    df_purchase_not_finish_tutorial, \n",
    "    on=['timedelta', 'tutorial'],\n",
    "    how='outer'\n",
    ")\n",
    "time_purchase['timedelta'] = time_purchase['timedelta'] / pd.to_timedelta('1 day')\n",
    "time_purchase = time_purchase.groupby('tutorial')['timedelta'].mean()\n",
    "\n",
    "\n",
    "fig = plt.figure(figsize=(4, 4))\n",
    "main_axes = fig.add_axes([0, 0, 1, 1])\n",
    "main_axes.bar(\n",
    "    x = time_purchase.index,\n",
    "    height = time_purchase,\n",
    "    \n",
    "    )\n",
    "main_axes.set_ylabel('Количество дней')\n",
    "main_axes.set_xlabel('Группы пользователей')\n",
    "main_axes.set_title('Время до покупки пакета вопросов')"
   ]
  },
  {
   "attachments": {},
   "cell_type": "markdown",
   "metadata": {},
   "source": [
    "Покупка бесплатного пака от пользователей которые выбрали бесплатный пак составила: 28%, которые прошли обучение и 30% для тех, кто не прошел.  Разность во времени мнежду группами составила примерно 12 часов в пользу тех, кто прошел обучение"
   ]
  },
  {
   "cell_type": "code",
   "execution_count": 178,
   "metadata": {},
   "outputs": [
    {
     "data": {
      "text/plain": [
       "Timedelta('4 days 00:25:51.737563085')"
      ]
     },
     "metadata": {},
     "output_type": "display_data"
    },
    {
     "data": {
      "text/plain": [
       "Timedelta('4 days 09:06:01.909090909')"
      ]
     },
     "metadata": {},
     "output_type": "display_data"
    },
    {
     "data": {
      "text/plain": [
       "tutorial\n",
       "finish tutorial        4.017960\n",
       "not finish tutorial    4.379189\n",
       "Name: timedelta, dtype: float64"
      ]
     },
     "metadata": {},
     "output_type": "display_data"
    },
    {
     "data": {
      "text/plain": [
       "Text(0.5, 1.0, 'Время с момента регистрации до покупки вопросов')"
      ]
     },
     "execution_count": 178,
     "metadata": {},
     "output_type": "execute_result"
    },
    {
     "data": {
      "image/png": "[encoded data removed]",
      "text/plain": [
       "<Figure size 400x400 with 1 Axes>"
      ]
     },
     "metadata": {},
     "output_type": "display_data"
    }
   ],
   "source": [
    "full_time_finish_tutorial = df_purchase_finish_tutorial.merge(\n",
    "    registration_df,\n",
    "    on='user_id',\n",
    "    how='inner'\n",
    ") # создаем датафрейм с момента регистрации и до покупки \n",
    "full_time_finish_tutorial['timedelta'] = full_time_finish_tutorial['purchase_time'] - full_time_finish_tutorial['registration_time']\n",
    "full_time_finish_tutorial['tutorial'] = 'finish tutorial'\n",
    "display(full_time_finish_tutorial.timedelta.mean())\n",
    "\n",
    "full_time_not_finish_tutorial = df_purchase_not_finish_tutorial.merge(\n",
    "    registration_df,\n",
    "    on='user_id',\n",
    "    how='inner'\n",
    ")\n",
    "full_time_not_finish_tutorial['timedelta'] = full_time_not_finish_tutorial['purchase_time'] - full_time_not_finish_tutorial['registration_time']\n",
    "full_time_not_finish_tutorial['tutorial'] = 'not finish tutorial'\n",
    "display(full_time_not_finish_tutorial.timedelta.mean())\n",
    "\n",
    "full_time = full_time_finish_tutorial.merge(\n",
    "    full_time_not_finish_tutorial,\n",
    "    on=['timedelta', 'tutorial'],\n",
    "    how='outer'\n",
    ")\n",
    "full_time['timedelta'] = full_time['timedelta'] / pd.to_timedelta('1 day')\n",
    "full_time = full_time.groupby('tutorial')['timedelta'].mean()\n",
    "display(full_time)\n",
    "\n",
    "fig = plt.figure(figsize=(4, 4))\n",
    "main_axes = fig.add_axes([0, 0, 1, 1])\n",
    "main_axes.bar(\n",
    "    x = full_time.index,\n",
    "    height = full_time,\n",
    "    \n",
    "    ) # строим график так же по двум группам пользователей, и видим сколько времени необходимо с регистрации до оплаты.\n",
    "main_axes.set_ylabel('Количество дней')\n",
    "main_axes.set_xlabel('Группы пользователей')\n",
    "main_axes.set_title('Время с момента регистрации до покупки вопросов')"
   ]
  },
  {
   "attachments": {},
   "cell_type": "markdown",
   "metadata": {},
   "source": [
    "В данном блоке кода, подсчитали общее время с момента регистрации, до момента покупки пользователей. Как можно заметить на это уходит в среднем 4 дня. Пользователи, которые все же прошли обучение, совершают этап покупки быстрее, чем те, кто не прошел. Это говорит о том, что обучение помогает вовлечению в игру. \n",
    "\n",
    "Из прошлых шагов, можно заметить, что пользователи, прошедшие обучение, быстрее переходили к выбору сложности.(да. можно сказать, что те, кто не проходил туториал считали время от момента регистрации, но это и логично, ведь они пропустили шаг и должны были сразу выбрать уровень.) \n",
    "Следуйший шаг, который показывает эффективность обучения - это покупка платного пака вопросов, у первый группы пользователей, она происходит быстрее на 12.5 часов."
   ]
  },
  {
   "cell_type": "code",
   "execution_count": 179,
   "metadata": {},
   "outputs": [
    {
     "data": {
      "text/plain": [
       "1.0"
      ]
     },
     "execution_count": 179,
     "metadata": {},
     "output_type": "execute_result"
    }
   ],
   "source": [
    "purchase.groupby('user_id')['purchase_id'].value_counts().mean() # проверим сколько раз пользователи купили платный пакет"
   ]
  },
  {
   "attachments": {},
   "cell_type": "markdown",
   "metadata": {},
   "source": [
    "Как мы видим, более одной покупки пользователь не совершил. Тогда будем проверять на сколько дорогая была эта покупка. Не вижу смысла разбирать отдельных пользователей, поэтому обобщим все в группы по количеству прохождений обучения."
   ]
  },
  {
   "cell_type": "code",
   "execution_count": 180,
   "metadata": {},
   "outputs": [],
   "source": [
    "import seaborn as sns\n",
    "import matplotlib.pyplot as plt"
   ]
  },
  {
   "cell_type": "code",
   "execution_count": 181,
   "metadata": {},
   "outputs": [
    {
     "data": {
      "text/html": [
       "<div>\n",
       "<style scoped>\n",
       "    .dataframe tbody tr th:only-of-type {\n",
       "        vertical-align: middle;\n",
       "    }\n",
       "\n",
       "    .dataframe tbody tr th {\n",
       "        vertical-align: top;\n",
       "    }\n",
       "\n",
       "    .dataframe thead th {\n",
       "        text-align: right;\n",
       "    }\n",
       "</style>\n",
       "<table border=\"1\" class=\"dataframe\">\n",
       "  <thead>\n",
       "    <tr style=\"text-align: right;\">\n",
       "      <th></th>\n",
       "      <th>user_id</th>\n",
       "      <th>amount_y</th>\n",
       "      <th>count</th>\n",
       "    </tr>\n",
       "  </thead>\n",
       "  <tbody>\n",
       "    <tr>\n",
       "      <th>723</th>\n",
       "      <td>37496</td>\n",
       "      <td>150</td>\n",
       "      <td>1</td>\n",
       "    </tr>\n",
       "    <tr>\n",
       "      <th>922</th>\n",
       "      <td>40272</td>\n",
       "      <td>100</td>\n",
       "      <td>1</td>\n",
       "    </tr>\n",
       "    <tr>\n",
       "      <th>921</th>\n",
       "      <td>40268</td>\n",
       "      <td>200</td>\n",
       "      <td>1</td>\n",
       "    </tr>\n",
       "    <tr>\n",
       "      <th>920</th>\n",
       "      <td>40267</td>\n",
       "      <td>150</td>\n",
       "      <td>1</td>\n",
       "    </tr>\n",
       "    <tr>\n",
       "      <th>919</th>\n",
       "      <td>40250</td>\n",
       "      <td>100</td>\n",
       "      <td>1</td>\n",
       "    </tr>\n",
       "    <tr>\n",
       "      <th>...</th>\n",
       "      <td>...</td>\n",
       "      <td>...</td>\n",
       "      <td>...</td>\n",
       "    </tr>\n",
       "    <tr>\n",
       "      <th>134</th>\n",
       "      <td>29655</td>\n",
       "      <td>100</td>\n",
       "      <td>8</td>\n",
       "    </tr>\n",
       "    <tr>\n",
       "      <th>1071</th>\n",
       "      <td>42762</td>\n",
       "      <td>100</td>\n",
       "      <td>9</td>\n",
       "    </tr>\n",
       "    <tr>\n",
       "      <th>583</th>\n",
       "      <td>35713</td>\n",
       "      <td>50</td>\n",
       "      <td>9</td>\n",
       "    </tr>\n",
       "    <tr>\n",
       "      <th>131</th>\n",
       "      <td>29630</td>\n",
       "      <td>200</td>\n",
       "      <td>9</td>\n",
       "    </tr>\n",
       "    <tr>\n",
       "      <th>990</th>\n",
       "      <td>41413</td>\n",
       "      <td>50</td>\n",
       "      <td>9</td>\n",
       "    </tr>\n",
       "  </tbody>\n",
       "</table>\n",
       "<p>1447 rows × 3 columns</p>\n",
       "</div>"
      ],
      "text/plain": [
       "      user_id  amount_y  count\n",
       "723     37496       150      1\n",
       "922     40272       100      1\n",
       "921     40268       200      1\n",
       "920     40267       150      1\n",
       "919     40250       100      1\n",
       "...       ...       ...    ...\n",
       "134     29655       100      8\n",
       "1071    42762       100      9\n",
       "583     35713        50      9\n",
       "131     29630       200      9\n",
       "990     41413        50      9\n",
       "\n",
       "[1447 rows x 3 columns]"
      ]
     },
     "metadata": {},
     "output_type": "display_data"
    },
    {
     "data": {
      "image/png": "[encoded data removed]",
      "text/plain": [
       "<Figure size 1000x700 with 1 Axes>"
      ]
     },
     "metadata": {},
     "output_type": "display_data"
    }
   ],
   "source": [
    "user_tutorial = total_events_df[total_events_df[\"event_type\"] == \"tutorial_finish\"] # ищем игроков, которые прошли обучение\n",
    "\n",
    "\n",
    "purchase_user = purchase.copy() # копируем таблицу c покупками для работы \n",
    "\n",
    "purchase_user = purchase_user[[\"user_id\", \"amount\", \"event_type\"]].rename(columns={\"event_type\": \"event_type2\"}) # оставляем только нужные столбцы\n",
    "\n",
    "cnt_tutorial_user = user_tutorial.merge(\n",
    "    purchase_user,\n",
    "    on='user_id',\n",
    "    how='inner'\n",
    ") # объединяем таблицы с помощью иннет, что бы оставить только тех пользователей, которые прошли обучение и провели оплату\n",
    "\n",
    "\n",
    "top = cnt_tutorial_user.groupby(\n",
    "    by='user_id',\n",
    "    as_index=False\n",
    ")['amount_y'].value_counts().sort_values(by='count') # групируем таблицу по пользователям и находим количество прохождений индивидуально для каждого \n",
    "\n",
    "display(top)\n",
    "\n",
    "fig2 = plt.figure(figsize=(10, 7))\n",
    "amount_rate = sns.boxplot(\n",
    "    data=top,\n",
    "    y='count',\n",
    "    x='amount_y',\n",
    "    orient='h',\n",
    "    width=0.9\n",
    ") # строим коробчатую диаграмму, что бы лучше разобрать наши группы пользователей по доходу\n",
    "amount_rate.set_title('Распределение цены покупки');\n",
    "amount_rate.set_xlabel('Сумма покупки');\n",
    "amount_rate.set_ylabel('Количество прохождений обучения');\n",
    "amount_rate.grid()\n"
   ]
  },
  {
   "attachments": {},
   "cell_type": "markdown",
   "metadata": {},
   "source": [
    "Как видно из графика, медианная сумма покупки равна практически для всех групп пользователей. Как и средняя сумма покупки. Так же из графика видно, что пользователи прошедшие 9 раз обучение, тратят меньше, чем все остальные, возможно это зависит из-за того, что мало человек попало в данную категорию. Отвечая на вопрос смело говорим, что количество обучений не влияет на качество и количество оплат."
   ]
  },
  {
   "cell_type": "code",
   "execution_count": 182,
   "metadata": {},
   "outputs": [
    {
     "data": {
      "text/html": [
       "<div>\n",
       "<style scoped>\n",
       "    .dataframe tbody tr th:only-of-type {\n",
       "        vertical-align: middle;\n",
       "    }\n",
       "\n",
       "    .dataframe tbody tr th {\n",
       "        vertical-align: top;\n",
       "    }\n",
       "\n",
       "    .dataframe thead th {\n",
       "        text-align: right;\n",
       "    }\n",
       "</style>\n",
       "<table border=\"1\" class=\"dataframe\">\n",
       "  <thead>\n",
       "    <tr style=\"text-align: right;\">\n",
       "      <th></th>\n",
       "      <th>chogort</th>\n",
       "      <th>cnt_user</th>\n",
       "      <th>cnt_purchase_user</th>\n",
       "      <th>conversion</th>\n",
       "    </tr>\n",
       "  </thead>\n",
       "  <tbody>\n",
       "    <tr>\n",
       "      <th>0</th>\n",
       "      <td>1</td>\n",
       "      <td>9103</td>\n",
       "      <td>1207</td>\n",
       "      <td>13</td>\n",
       "    </tr>\n",
       "    <tr>\n",
       "      <th>1</th>\n",
       "      <td>2</td>\n",
       "      <td>1589</td>\n",
       "      <td>218</td>\n",
       "      <td>14</td>\n",
       "    </tr>\n",
       "    <tr>\n",
       "      <th>2</th>\n",
       "      <td>3</td>\n",
       "      <td>427</td>\n",
       "      <td>51</td>\n",
       "      <td>12</td>\n",
       "    </tr>\n",
       "    <tr>\n",
       "      <th>3</th>\n",
       "      <td>4</td>\n",
       "      <td>221</td>\n",
       "      <td>30</td>\n",
       "      <td>14</td>\n",
       "    </tr>\n",
       "    <tr>\n",
       "      <th>4</th>\n",
       "      <td>5</td>\n",
       "      <td>109</td>\n",
       "      <td>16</td>\n",
       "      <td>15</td>\n",
       "    </tr>\n",
       "    <tr>\n",
       "      <th>5</th>\n",
       "      <td>6</td>\n",
       "      <td>116</td>\n",
       "      <td>14</td>\n",
       "      <td>12</td>\n",
       "    </tr>\n",
       "    <tr>\n",
       "      <th>6</th>\n",
       "      <td>7</td>\n",
       "      <td>94</td>\n",
       "      <td>12</td>\n",
       "      <td>13</td>\n",
       "    </tr>\n",
       "    <tr>\n",
       "      <th>7</th>\n",
       "      <td>8</td>\n",
       "      <td>86</td>\n",
       "      <td>13</td>\n",
       "      <td>15</td>\n",
       "    </tr>\n",
       "    <tr>\n",
       "      <th>8</th>\n",
       "      <td>9</td>\n",
       "      <td>113</td>\n",
       "      <td>17</td>\n",
       "      <td>15</td>\n",
       "    </tr>\n",
       "  </tbody>\n",
       "</table>\n",
       "</div>"
      ],
      "text/plain": [
       "   chogort  cnt_user  cnt_purchase_user  conversion\n",
       "0        1      9103               1207          13\n",
       "1        2      1589                218          14\n",
       "2        3       427                 51          12\n",
       "3        4       221                 30          14\n",
       "4        5       109                 16          15\n",
       "5        6       116                 14          12\n",
       "6        7        94                 12          13\n",
       "7        8        86                 13          15\n",
       "8        9       113                 17          15"
      ]
     },
     "metadata": {},
     "output_type": "display_data"
    },
    {
     "data": {
      "text/plain": [
       "Text(0.5, 1.0, 'Конверсия пользователей начавших обучение')"
      ]
     },
     "execution_count": 182,
     "metadata": {},
     "output_type": "execute_result"
    },
    {
     "data": {
      "image/png": "[encoded data removed]",
      "text/plain": [
       "<Figure size 600x500 with 1 Axes>"
      ]
     },
     "metadata": {},
     "output_type": "display_data"
    }
   ],
   "source": [
    "user_tutorial = total_events_df[total_events_df['event_type'] == 'tutorial_start'] # определяем группу пользователей, которые начали оучение\n",
    "\n",
    "user_tutorial = user_tutorial.groupby('user_id', as_index=False)['event_type'].value_counts().sort_values(by='count')\n",
    "user_tutorial_cnt1 = user_tutorial.groupby('count', as_index=False)['user_id'].count() #  сортируем и строим когорты по кол-ву прохождени обучений\n",
    "\n",
    "purchase_tutorial = user_tutorial.merge(purchase, on='user_id', how='inner')\n",
    "user_tutorial = user_tutorial.merge(purchase, on='user_id', how='inner')\n",
    "user_tutorial_cnt2 = user_tutorial.groupby('count', as_index=False)['user_id'].count()\n",
    "\n",
    "user_tutorial_cnt3 = user_tutorial_cnt1.merge(user_tutorial_cnt2, on='count') # так же считаем кол-во этих пользовтелей в таблице оплат, с помощию объединеня\n",
    "\n",
    "user_tutorial_cnt3['conversion'] = round(user_tutorial_cnt3['user_id_y'] / user_tutorial_cnt3['user_id_x'] * 100)\n",
    "user_tutorial_cnt3['conversion'] = user_tutorial_cnt3['conversion'].astype('int64')\n",
    "user_tutorial_cnt3 = user_tutorial_cnt3.rename(columns={'user_id_x' : 'cnt_user', 'user_id_y' : 'cnt_purchase_user', 'count' : 'chogort'})\n",
    "display(user_tutorial_cnt3) # считаем конверсию пользователей, приводим в нужный тип данных, для построения графика\n",
    "\n",
    "fig = plt.figure(figsize=(6, 5))\n",
    "convers_axes = fig.add_axes([0, 0, 1, 1])\n",
    "convers_axes.bar(\n",
    "    x = user_tutorial_cnt3.chogort,\n",
    "    height = user_tutorial_cnt3.conversion,\n",
    "    \n",
    "    ) # строим график по  группам пользователей, и видим конверсию с количеств прохождения обучения до оплаты.\n",
    "convers_axes.set_ylabel('процент конверсии')\n",
    "convers_axes.set_xlabel('Группы пользователей')\n",
    "convers_axes.set_title('Конверсия пользователей начавших обучение')\n"
   ]
  },
  {
   "attachments": {},
   "cell_type": "markdown",
   "metadata": {},
   "source": [
    "Из графика видно, что конверсия пользователей не сильно отличается от показателей оплаты. в среднем - это для всех групп 12.5%. Но вот уже пользователи последних групп (8 и 9), показывают наилучшие показатели конверсии. Но средняя сумма покупки ниже, чем у других пользователей."
   ]
  },
  {
   "cell_type": "code",
   "execution_count": 183,
   "metadata": {},
   "outputs": [
    {
     "name": "stdout",
     "output_type": "stream",
     "text": [
      "15.468144044321331\n"
     ]
    }
   ],
   "source": [
    "tutorial_start_df = tutorial_start_df[['user_id', 'start_time']]\n",
    "level_choice_df = level_choice_df[['user_id', 'level_choice_time']] #  создаем таблицы для работы \n",
    "\n",
    "cnt_slow_tutorial = tutorial_start_df.merge(\n",
    "    level_choice_df,\n",
    "    on='user_id',\n",
    "    how='inner'\n",
    "    ) #  объединяем их\n",
    "\n",
    "cnt_slow_tutorial['timedelta'] = cnt_slow_tutorial['start_time'] - cnt_slow_tutorial['level_choice_time'] #  ищем разницу во времени, если положительная, то искомый случай\n",
    "cnt_slow_tutorial['user_id'] = cnt_slow_tutorial['user_id'].nunique() #  оставляем только уникальныйх позьзователей\n",
    "\n",
    "x = pd.Timedelta('1 second') # создадим переменную для посчета\n",
    "\n",
    "def time(time):\n",
    "    cnt_user = 0\n",
    "    if time > x:\n",
    "        cnt_user +=1 \n",
    "    return cnt_user\n",
    "\n",
    "cnt_user = cnt_slow_tutorial['timedelta'].apply(time) #  считаем кол-во пользовтелей, которые начали обучение после выбора уровня сложности\n",
    "\n",
    "cnt_user = cnt_user.sum()  \n",
    "print(cnt_user / tutorial_start_df['user_id'].count() * 100)  # считаем процент пользователей, от кол-ва пользователей, начавших обучение"
   ]
  },
  {
   "attachments": {},
   "cell_type": "markdown",
   "metadata": {},
   "source": [
    "Мы получили 15.5% таких пользователей. Что говорит о том, что игра немного не понятна для отдельных людей. Процент не высокий, но если его уменьшит, можно увеличить конверсию пользователей на несколько процентов. Что положительно скажется на доходе."
   ]
  },
  {
   "attachments": {},
   "cell_type": "markdown",
   "metadata": {},
   "source": [
    "# Вывод\n",
    "1. В ходе исследования мы изучили пусть пользовтелей, которые прошли обучение и тех, кто не проходил его. Исходя из графиков и разбора каждого пусти, средние показатели были практически равны, кроме выбора уровня сложности и до покупки платного пакета. Но в целом, показатели равны.\n",
    "Общая разница с момента регистрации составила 9 часов, соответсвенно пользватели прошедшие обучение быстрее сделали покупку.\n",
    "\n",
    "2. Далее разбирали конверсию покупок и качество оплат, пользователей, которые прошли обучение от одного до девяти раз. На графиках видно, что разница среди когорт не сильно велика. Медианный показатель покупок у всех групп одинаковый и межквартильный размах, так же. Выделяются 8 и 9 группы, которые прошли соответсвующее ко-во раз обучение. Процент конверсии до покупки у них самый высокий.\n",
    "\n",
    "3. И третий вопрос, на сколько прозрачна игра, для пользователя. Для этого нашли пользователей, которые начали обучение, уже после выбора уровня сложность, и посчитали процент таких пользователей в 15.5% от общего кол-ва игроков, которые начали обучение. Процент не высокий, но если его уменьшит, можно увеличить конверсию пользователей на несколько процентов.\n",
    "\n",
    "\n",
    "4. Пользователи в игре показывают стабильные цыфры и нельзя заменить какую, либо закономерность. Игра простая и интуитивно понятная для большинства. Показатели конверсии хорошие. Единственный  вопрос, почему пользователи в среднем делают только одну покупку."
   ]
  }
 ],
 "metadata": {
  "kernelspec": {
   "display_name": "Python 3",
   "language": "python",
   "name": "python3"
  },
  "language_info": {
   "codemirror_mode": {
    "name": "ipython",
    "version": 3
   },
   "file_extension": ".py",
   "mimetype": "text/x-python",
   "name": "python",
   "nbconvert_exporter": "python",
   "pygments_lexer": "ipython3",
   "version": "3.11.1"
  },
  "orig_nbformat": 4,
  "vscode": {
   "interpreter": {
    "hash": "aee8b7b246df8f9039afb4144a1f6fd8d2ca17a180786b69acc140d282b71a49"
   }
  }
 },
 "nbformat": 4,
 "nbformat_minor": 2
}
